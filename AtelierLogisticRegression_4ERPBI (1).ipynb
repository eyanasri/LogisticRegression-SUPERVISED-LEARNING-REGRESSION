{
  "nbformat": 4,
  "nbformat_minor": 0,
  "metadata": {
    "kernelspec": {
      "display_name": "Python 3",
      "language": "python",
      "name": "python3"
    },
    "language_info": {
      "codemirror_mode": {
        "name": "ipython",
        "version": 3
      },
      "file_extension": ".py",
      "mimetype": "text/x-python",
      "name": "python",
      "nbconvert_exporter": "python",
      "pygments_lexer": "ipython3",
      "version": "3.6.3"
    },
    "colab": {
      "name": "AtelierLogisticRegression_4ERPBI.ipynb",
      "provenance": [],
      "toc_visible": true
    }
  },
  "cells": [
    {
      "cell_type": "markdown",
      "metadata": {
        "id": "3v-S2HU7Ea_D"
      },
      "source": [
        "## Atelier Régression Logistique\n"
      ]
    },
    {
      "cell_type": "markdown",
      "metadata": {
        "id": "aPRBgBjJEa_H"
      },
      "source": [
        "### Contexte: \n",
        "Nous souhaitons mettre en place un modèle approprié permettant d'identifier le public cible pour une publicité spécifique sur l'un des réseaux sociaux, maximisant ainsi le taux de clics sur cette publicité.\n",
        "### Description du Dataset\n",
        "Notre Dataset 'Internautes_info.csv' contient des informations sur tous les utilisateurs du réseau social, y compris leur Identifiant, leur sexe, leur âge et leur salaire estimé. La dernière colonne de l'ensemble de données est un vecteur de booléens décrivant si chaque utilisateur a fini par cliquer sur la publicité (0 = Faux, 1 = Vrai)."
      ]
    },
    {
      "cell_type": "code",
      "metadata": {
        "collapsed": true,
        "id": "Gr6oRR-gEa_K"
      },
      "source": [
        "# Importer les libraries\n",
        "\n",
        "import pandas as pd\n",
        "import matplotlib.pyplot as plt\n",
        "import numpy as np\n",
        "import seaborn as sn\n",
        "import matplotlib.pyplot as plt \n",
        "from sklearn.linear_model import LogisticRegression\n",
        "from sklearn.neighbors import KNeighborsClassifier\n",
        "from sklearn.svm import SVC\n",
        "from sklearn.tree import DecisionTreeClassifier\n",
        "from sklearn.metrics import confusion_matrix, classification_report\n"
      ],
      "execution_count": 41,
      "outputs": []
    },
    {
      "cell_type": "code",
      "metadata": {
        "collapsed": true,
        "id": "TMGVbGAWEa_L"
      },
      "source": [
        "# Importer le dataset\n",
        "\n",
        "dataset = pd.read_csv('Internautes_info.csv')"
      ],
      "execution_count": 30,
      "outputs": []
    },
    {
      "cell_type": "code",
      "metadata": {
        "colab": {
          "base_uri": "https://localhost:8080/"
        },
        "id": "G7GMy7ByEa_M",
        "outputId": "59023fa4-4ef5-466e-80f2-51ea0bc07906"
      },
      "source": [
        "#dimensions : nombre de lignes, nombre de colonnes\n",
        "dataset.shape"
      ],
      "execution_count": 31,
      "outputs": [
        {
          "output_type": "execute_result",
          "data": {
            "text/plain": [
              "(400, 5)"
            ]
          },
          "metadata": {
            "tags": []
          },
          "execution_count": 31
        }
      ]
    },
    {
      "cell_type": "code",
      "metadata": {
        "colab": {
          "base_uri": "https://localhost:8080/",
          "height": 197
        },
        "id": "kYHLlnUuEa_N",
        "outputId": "f7ca7ee2-0ccb-4bcc-b0e9-079f07f05b90"
      },
      "source": [
        "#Visualiser les 5 premieres lignes\n",
        "dataset.head()"
      ],
      "execution_count": 32,
      "outputs": [
        {
          "output_type": "execute_result",
          "data": {
            "text/html": [
              "<div>\n",
              "<style scoped>\n",
              "    .dataframe tbody tr th:only-of-type {\n",
              "        vertical-align: middle;\n",
              "    }\n",
              "\n",
              "    .dataframe tbody tr th {\n",
              "        vertical-align: top;\n",
              "    }\n",
              "\n",
              "    .dataframe thead th {\n",
              "        text-align: right;\n",
              "    }\n",
              "</style>\n",
              "<table border=\"1\" class=\"dataframe\">\n",
              "  <thead>\n",
              "    <tr style=\"text-align: right;\">\n",
              "      <th></th>\n",
              "      <th>User ID</th>\n",
              "      <th>Gender</th>\n",
              "      <th>Age</th>\n",
              "      <th>EstimatedSalary</th>\n",
              "      <th>Purchased</th>\n",
              "    </tr>\n",
              "  </thead>\n",
              "  <tbody>\n",
              "    <tr>\n",
              "      <th>0</th>\n",
              "      <td>15624510</td>\n",
              "      <td>Male</td>\n",
              "      <td>19</td>\n",
              "      <td>19000</td>\n",
              "      <td>0</td>\n",
              "    </tr>\n",
              "    <tr>\n",
              "      <th>1</th>\n",
              "      <td>15810944</td>\n",
              "      <td>Male</td>\n",
              "      <td>35</td>\n",
              "      <td>20000</td>\n",
              "      <td>0</td>\n",
              "    </tr>\n",
              "    <tr>\n",
              "      <th>2</th>\n",
              "      <td>15668575</td>\n",
              "      <td>Female</td>\n",
              "      <td>26</td>\n",
              "      <td>43000</td>\n",
              "      <td>0</td>\n",
              "    </tr>\n",
              "    <tr>\n",
              "      <th>3</th>\n",
              "      <td>15603246</td>\n",
              "      <td>Female</td>\n",
              "      <td>27</td>\n",
              "      <td>57000</td>\n",
              "      <td>0</td>\n",
              "    </tr>\n",
              "    <tr>\n",
              "      <th>4</th>\n",
              "      <td>15804002</td>\n",
              "      <td>Male</td>\n",
              "      <td>19</td>\n",
              "      <td>76000</td>\n",
              "      <td>0</td>\n",
              "    </tr>\n",
              "  </tbody>\n",
              "</table>\n",
              "</div>"
            ],
            "text/plain": [
              "    User ID  Gender  Age  EstimatedSalary  Purchased\n",
              "0  15624510    Male   19            19000          0\n",
              "1  15810944    Male   35            20000          0\n",
              "2  15668575  Female   26            43000          0\n",
              "3  15603246  Female   27            57000          0\n",
              "4  15804002    Male   19            76000          0"
            ]
          },
          "metadata": {
            "tags": []
          },
          "execution_count": 32
        }
      ]
    },
    {
      "cell_type": "code",
      "metadata": {
        "colab": {
          "base_uri": "https://localhost:8080/"
        },
        "id": "T9sAPRFtFwUU",
        "outputId": "6a970f53-1e9c-4a6d-fbde-c761c4f2c241"
      },
      "source": [
        "#Modalités de la variable à expliquer\n",
        "print(dataset['Purchased'].unique())\n"
      ],
      "execution_count": 33,
      "outputs": [
        {
          "output_type": "stream",
          "text": [
            "[0 1]\n"
          ],
          "name": "stdout"
        }
      ]
    },
    {
      "cell_type": "code",
      "metadata": {
        "colab": {
          "base_uri": "https://localhost:8080/"
        },
        "id": "KRcuDSRwF4HY",
        "outputId": "d425e703-1f56-4d0a-9a69-db6778f9cc9a"
      },
      "source": [
        "#Nombre d'observations par Modalité de la variable à expliquer\n",
        "print(dataset.groupby('Purchased').size())\n"
      ],
      "execution_count": 34,
      "outputs": [
        {
          "output_type": "stream",
          "text": [
            "Purchased\n",
            "0    257\n",
            "1    143\n",
            "dtype: int64\n"
          ],
          "name": "stdout"
        }
      ]
    },
    {
      "cell_type": "code",
      "metadata": {
        "colab": {
          "base_uri": "https://localhost:8080/",
          "height": 332
        },
        "id": "atjPM_3iF7JL",
        "outputId": "01ed279a-f59c-4f61-ba10-fdce538aea0f"
      },
      "source": [
        "sn.countplot(dataset['Purchased'],label=\"Count\")\n",
        "plt.show()"
      ],
      "execution_count": 36,
      "outputs": [
        {
          "output_type": "stream",
          "text": [
            "/usr/local/lib/python3.7/dist-packages/seaborn/_decorators.py:43: FutureWarning: Pass the following variable as a keyword arg: x. From version 0.12, the only valid positional argument will be `data`, and passing other arguments without an explicit keyword will result in an error or misinterpretation.\n",
            "  FutureWarning\n"
          ],
          "name": "stderr"
        },
        {
          "output_type": "display_data",
          "data": {
            "image/png": "[encoded data removed]",
            "text/plain": [
              "<Figure size 432x288 with 1 Axes>"
            ]
          },
          "metadata": {
            "tags": [],
            "needs_background": "light"
          }
        }
      ]
    },
    {
      "cell_type": "code",
      "metadata": {
        "collapsed": true,
        "id": "oyz6gkZBEa_O"
      },
      "source": [
        "# diviser les données en attributs et étiquettes (labes)\n",
        "\n",
        "X = dataset.iloc[:, [2,3]].values\n",
        "\n",
        "y= dataset.iloc[:,4].values"
      ],
      "execution_count": 37,
      "outputs": []
    },
    {
      "cell_type": "code",
      "metadata": {
        "collapsed": true,
        "id": "hXiqWQIQEa_O"
      },
      "source": [
        "# Splitting du dataset Training set and Test set (80%,20%)\n",
        "\n",
        "\n",
        "from sklearn.model_selection import train_test_split\n",
        "X_train, X_test, y__train, y_test=train_test_split(X,y, test_size=0.20)\n"
      ],
      "execution_count": 38,
      "outputs": []
    },
    {
      "cell_type": "markdown",
      "metadata": {
        "id": "uFTA2aYVIMlC"
      },
      "source": [
        "#Over-sampling using SMOTE (Si besoin)"
      ]
    },
    {
      "cell_type": "code",
      "metadata": {
        "id": "9PwnI4PhGFl_"
      },
      "source": [
        "#X = dataset.loc[:, dataset.columns != 'y']\n",
        "#y = dataset.loc[:, dataset.columns == 'y']\n",
        "#from imblearn.over_sampling import SMOTE\n",
        "#os = SMOTE(random_state=0)\n",
        "#X_train, X_test, y_train, y_test = train_test_split(X, y, test_size=0.3, random_state=0)\n",
        "#columns = X_train.columns\n",
        "#os_data_X,os_data_y=os.fit_sample(X_train, y_train)\n",
        "#os_data_X = pd.DataFrame(data=os_data_X,columns=columns )\n",
        "#os_data_y= pd.DataFrame(data=os_data_y,columns=['y'])\n",
        "# we can Check the numbers of our data\n",
        "#print(\"length of oversampled data is \",len(os_data_X))\n",
        "#print(\"Number of no subscription in oversampled data\",len(os_data_y[os_data_y['y']==0]))\n",
        "#print(\"Number of subscription\",len(os_data_y[os_data_y['y']==1]))\n",
        "#print(\"Proportion of no subscription data in oversampled data is \",len(os_data_y[os_data_y['y']==0])/len(os_data_X))\n",
        "#print(\"Proportion of subscription data in oversampled data is \",len(os_data_y[os_data_y['y']==1])/len(os_data_X))"
      ],
      "execution_count": null,
      "outputs": []
    },
    {
      "cell_type": "code",
      "metadata": {
        "id": "kWIJXu5iEa_P"
      },
      "source": [
        "# Feature Scaling / Mise en echelle: Normalisation & Standardisation\n",
        "from sklearn.preprocessing import MinMaxScaler, StandardScaler\n",
        "\n",
        "#Normalisation\n",
        "#minmaxscaler=MinMaxScaler()\n",
        "#X_train_n=minmaxscaler.fit_transform(X_train)\n",
        "#X_test_n=minmaxscaler.fit_transform(X_test)\n",
        "\n",
        "#Standardisation\n",
        "standarscaler= StandardScaler()\n",
        "X_train=standarscaler.fit_transform(X_train)\n",
        "X_test=standarscaler.fit_transform(X_test)\n"
      ],
      "execution_count": 40,
      "outputs": []
    },
    {
      "cell_type": "code",
      "metadata": {
        "id": "BYkPwX5kEa_R"
      },
      "source": [
        "#Instanciation du modèle\n",
        "modele_regLog = LogisticRegression(penalty='none')\n",
        "# Apprentissage \n",
        "modele_regLog.fit(X_train_n, y__train)\n",
        "#Prédiction\n",
        "y_pred=modele_regLog.predict(X_test)\n"
      ],
      "execution_count": 45,
      "outputs": []
    },
    {
      "cell_type": "code",
      "metadata": {
        "colab": {
          "base_uri": "https://localhost:8080/",
          "height": 300
        },
        "id": "1rwd2LmCHZDI",
        "outputId": "0630cec9-de7a-4ed3-81ff-b57049b3c01c"
      },
      "source": [
        "#Evaluation des performances\n",
        "confusion_matrix = pd.crosstab(y_test, y_pred, rownames=['Actual'], colnames=['Predicted'])\n",
        "sn.heatmap(confusion_matrix, annot=True)\n"
      ],
      "execution_count": 46,
      "outputs": [
        {
          "output_type": "execute_result",
          "data": {
            "text/plain": [
              "<matplotlib.axes._subplots.AxesSubplot at 0x7feaea715450>"
            ]
          },
          "metadata": {
            "tags": []
          },
          "execution_count": 46
        },
        {
          "output_type": "display_data",
          "data": {
            "image/png": "[encoded data removed]",
            "text/plain": [
              "<Figure size 432x288 with 2 Axes>"
            ]
          },
          "metadata": {
            "tags": [],
            "needs_background": "light"
          }
        }
      ]
    },
    {
      "cell_type": "code",
      "metadata": {
        "collapsed": true,
        "colab": {
          "base_uri": "https://localhost:8080/"
        },
        "id": "Uq2R_JpCEa_T",
        "outputId": "a81cbf0a-90d4-4926-bd3b-cf500dbdcf46"
      },
      "source": [
        "print(classification_report(y_test, y_pred))"
      ],
      "execution_count": 47,
      "outputs": [
        {
          "output_type": "stream",
          "text": [
            "              precision    recall  f1-score   support\n",
            "\n",
            "           0       0.78      0.92      0.84        49\n",
            "           1       0.82      0.58      0.68        31\n",
            "\n",
            "    accuracy                           0.79        80\n",
            "   macro avg       0.80      0.75      0.76        80\n",
            "weighted avg       0.79      0.79      0.78        80\n",
            "\n"
          ],
          "name": "stdout"
        }
      ]
    }
  ]
}